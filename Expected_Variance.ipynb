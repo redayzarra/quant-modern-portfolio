{
 "cells": [
  {
   "cell_type": "markdown",
   "id": "880da2cf",
   "metadata": {},
   "source": [
    "# Expected Variance - Modern Portfolio Theory"
   ]
  },
  {
   "cell_type": "markdown",
   "id": "1d8bbfd5",
   "metadata": {},
   "source": [
    "### by ReDay Zarra"
   ]
  },
  {
   "cell_type": "markdown",
   "id": "e0e18dd4",
   "metadata": {},
   "source": [
    "**Risk of Portfolio:** The risk can be measured by the **volatility**. We can calculate the volatility by the standard deviation or variance. We can measure covariance by the equation below. The covariance can be calculated by the expected returns of the first stock (r_i) minus the mean of the stock (μ_i) multipled by the second stock (r_j) minus the mean of the second stock (μ_j).\n",
    "\n",
    "$$\n",
    "\\text{Covariance } σ_{ij} = \\text{E }[(r_i - μ_i)(r_j - μ_j)]\n",
    "$$\n",
    "\n",
    "**Covariance:** If the covariance is negative that means that the returns move inversely, meaning if one stock rises then the other falls. A **postitive covariance means that the assets move together**."
   ]
  }
 ],
 "metadata": {
  "kernelspec": {
   "display_name": "Python 3 (ipykernel)",
   "language": "python",
   "name": "python3"
  },
  "language_info": {
   "codemirror_mode": {
    "name": "ipython",
    "version": 3
   },
   "file_extension": ".py",
   "mimetype": "text/x-python",
   "name": "python",
   "nbconvert_exporter": "python",
   "pygments_lexer": "ipython3",
   "version": "3.9.13"
  }
 },
 "nbformat": 4,
 "nbformat_minor": 5
}
