{
 "cells": [
  {
   "cell_type": "markdown",
   "id": "e1eaa30b",
   "metadata": {},
   "source": [
    "# Diversification - Modern Portfolio Theory"
   ]
  },
  {
   "cell_type": "markdown",
   "id": "83087917",
   "metadata": {},
   "source": [
    "### by ReDay Zarra"
   ]
  },
  {
   "cell_type": "markdown",
   "id": "0189a8c5",
   "metadata": {},
   "source": [
    "**Modern Portfolio Theory:** Is a portfolio optimization model created by Harry Markowitz and it utilizes diversification to **maximize profits and reduce risk**.\n",
    "\n",
    "**Portfolio:** A collection of financial investments such as stocks, bonds, commodities, and cash. \n",
    "\n",
    "**Lead concept:** The Markowitz model helps select the **most efficient portfolio** by considering various possible portfolios of the given securities based on expected return (mean) and risk (variance)."
   ]
  },
  {
   "cell_type": "markdown",
   "id": "295866a1",
   "metadata": {},
   "source": [
    "## What is the main idea?"
   ]
  },
  {
   "cell_type": "markdown",
   "id": "a1157994",
   "metadata": {},
   "source": [
    "**Lead concept:** If we invest all of our money into a single stock then we take a huge risk because stocks are volatile. We are not sure if stocks are going to rise or fall so we can implement a strategy. \n",
    "\n",
    "**Markowitz Model:** We combine multiple assets in order to reduce risk as much as possible. This is called **diversification** and it allows us to maximize profits by reducing risk. The same approach is taken with the Black-Scholes model."
   ]
  },
  {
   "cell_type": "markdown",
   "id": "2972d581",
   "metadata": {},
   "source": [
    "## What are the assumptions of the Markowitz-Model?"
   ]
  },
  {
   "cell_type": "markdown",
   "id": "359e488e",
   "metadata": {},
   "source": [
    "**Assumption #1:** Returns are normally distributed. The returns of a stock are normally-distributed with mean and standard deviation. \n",
    "\n",
    "**Assumption #2:** Investors are risk-averse. Essentially, investors will take more risk in exchange for higher returns.\n",
    "\n",
    "**Lead concept:** It is possible to construct an efficient portfolio that has the highest reward for a given level of risk, or lower risk for a given return."
   ]
  }
 ],
 "metadata": {
  "kernelspec": {
   "display_name": "Python 3 (ipykernel)",
   "language": "python",
   "name": "python3"
  },
  "language_info": {
   "codemirror_mode": {
    "name": "ipython",
    "version": 3
   },
   "file_extension": ".py",
   "mimetype": "text/x-python",
   "name": "python",
   "nbconvert_exporter": "python",
   "pygments_lexer": "ipython3",
   "version": "3.9.13"
  }
 },
 "nbformat": 4,
 "nbformat_minor": 5
}
