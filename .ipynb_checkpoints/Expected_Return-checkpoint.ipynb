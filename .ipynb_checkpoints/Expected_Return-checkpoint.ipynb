{
 "cells": [
  {
   "cell_type": "markdown",
   "id": "d80823ee",
   "metadata": {},
   "source": [
    "# Expected Return - Modern Portfolio Theory"
   ]
  },
  {
   "cell_type": "markdown",
   "id": "5cb9848c",
   "metadata": {},
   "source": [
    "### by ReDay Zarra"
   ]
  },
  {
   "cell_type": "markdown",
   "id": "aee8b5b8",
   "metadata": {},
   "source": [
    "**Lead concept:** The Markowitz-Model relies heavily on **historical data** because historical mean performance is the best estimator for future expected performance. The equation below calculates the expected value of a portfolio. \n",
    "\n",
    "$$\n",
    "\\text{Expected Return }(μ) = \\text{E }(\\sum_i w_i r_i)\n",
    "$$\n",
    "\n",
    "We can simply the equation above to calculate the expected return of the portfolio by the edge weights transposed multipled by the returns:\n",
    "\n",
    "$$ \n",
    "\\text{Expected Return }(μ) = w^{T}μ\n",
    "$$\n",
    "\n"
   ]
  }
 ],
 "metadata": {
  "kernelspec": {
   "display_name": "Python 3 (ipykernel)",
   "language": "python",
   "name": "python3"
  },
  "language_info": {
   "codemirror_mode": {
    "name": "ipython",
    "version": 3
   },
   "file_extension": ".py",
   "mimetype": "text/x-python",
   "name": "python",
   "nbconvert_exporter": "python",
   "pygments_lexer": "ipython3",
   "version": "3.9.13"
  }
 },
 "nbformat": 4,
 "nbformat_minor": 5
}
