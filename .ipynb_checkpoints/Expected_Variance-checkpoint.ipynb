{
 "cells": [
  {
   "cell_type": "markdown",
   "id": "787fb2c8",
   "metadata": {},
   "source": [
    "# Expected Variance - Modern Portfolio Theory"
   ]
  },
  {
   "cell_type": "markdown",
   "id": "5c886808",
   "metadata": {},
   "source": [
    "### by ReDay Zarra"
   ]
  },
  {
   "cell_type": "markdown",
   "id": "e41c7426",
   "metadata": {},
   "source": [
    "**Risk of Portfolio:** The risk can be measured by the **volatility**. We can calculate the volatility by the standard deviation or variance. We can measure covariance by the equation below. The covariance can be calculated by the expected returns of the first stock (r_i) minus the mean of the stock (μ_i) multipled by the second stock (r_j) minus the mean of the second stock (μ_j).\n",
    "\n",
    "$$\n",
    "\\text{Covariance } σ_{ij} = \\text{E }[(r_i - μ_i)(r_j - μ_j)]\n",
    "$$\n",
    "\n",
    "**Covariance:** If the covariance is negative that means that the returns move inversely, meaning if one stock rises then the other falls. A **postitive covariance means that the assets move together**. We have to calculate the covariance for every pair of stocks in our portfolio."
   ]
  },
  {
   "cell_type": "markdown",
   "id": "9ff9e2e3",
   "metadata": {},
   "source": [
    "## How can we use this?"
   ]
  },
  {
   "cell_type": "markdown",
   "id": "24cdd1a6",
   "metadata": {},
   "source": [
    "**Lead concept:** The Markowitz-model states that we should **aim to diversify** our portfolio as much as possible to reduce risk. This is why we need to **include uncorrelated stocks** in our portfolio. Including stocks that are correlated does not provide diversity.\n",
    "\n",
    "**Variance:** The variance is the variability of the stock's returns over a certain period of time. Essentially, it represents the **degree to which a stock's returns deviate from the mean** return.\n",
    "\n",
    "$$\n",
    "σ_i^{2} = \\text{E }[(r_i - μ_i)^2]\n",
    "$$\n",
    "\n",
    "**Covariance Matrix:** A symmetric matrix that represents the **covariance between pairs of variables** in a multivariate dataset. Covariance is a measure of how much two random variables change together, or in other words, **how they are related**. If the covariance is positive, it means that the variables tend to increase or decrease together, while a negative covariance indicates that when one variable increases, the other tends to decrease, and vice versa."
   ]
  }
 ],
 "metadata": {
  "kernelspec": {
   "display_name": "Python 3 (ipykernel)",
   "language": "python",
   "name": "python3"
  },
  "language_info": {
   "codemirror_mode": {
    "name": "ipython",
    "version": 3
   },
   "file_extension": ".py",
   "mimetype": "text/x-python",
   "name": "python",
   "nbconvert_exporter": "python",
   "pygments_lexer": "ipython3",
   "version": "3.9.13"
  }
 },
 "nbformat": 4,
 "nbformat_minor": 5
}
