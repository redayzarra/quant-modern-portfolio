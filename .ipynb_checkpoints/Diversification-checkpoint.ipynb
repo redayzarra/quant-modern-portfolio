{
 "cells": [
  {
   "cell_type": "markdown",
   "id": "72269f31",
   "metadata": {},
   "source": [
    "# Diversification - Modern Portfolio Theory"
   ]
  },
  {
   "cell_type": "markdown",
   "id": "768c9a8d",
   "metadata": {},
   "source": [
    "### by ReDay Zarra"
   ]
  },
  {
   "cell_type": "markdown",
   "id": "5a2a54c4",
   "metadata": {},
   "source": [
    "**Modern Portfolio Theory:** Is a portfolio optimization model created by Harry Markowitz and it utilizes diversification to **maximize profits and reduce risk**.\n",
    "\n",
    "**Portfolio:** A collection of financial investments such as stocks, bonds, commodities, and cash. \n",
    "\n",
    "**Lead concept:** The Markowitz model helps select the **most efficient portfolio** by considering various possible portfolios of the given securities based on expected return (mean) and risk (variance)."
   ]
  }
 ],
 "metadata": {
  "kernelspec": {
   "display_name": "Python 3 (ipykernel)",
   "language": "python",
   "name": "python3"
  },
  "language_info": {
   "codemirror_mode": {
    "name": "ipython",
    "version": 3
   },
   "file_extension": ".py",
   "mimetype": "text/x-python",
   "name": "python",
   "nbconvert_exporter": "python",
   "pygments_lexer": "ipython3",
   "version": "3.9.13"
  }
 },
 "nbformat": 4,
 "nbformat_minor": 5
}
