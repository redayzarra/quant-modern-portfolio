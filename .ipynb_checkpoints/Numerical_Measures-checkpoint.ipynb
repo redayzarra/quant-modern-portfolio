{
 "cells": [
  {
   "cell_type": "markdown",
   "id": "48e4d227",
   "metadata": {},
   "source": [
    "# Numerical Measures - Modern Portfolio Theory"
   ]
  },
  {
   "cell_type": "markdown",
   "id": "232ba233",
   "metadata": {},
   "source": [
    "### by ReDay Zarra"
   ]
  },
  {
   "cell_type": "markdown",
   "id": "384a5cdf",
   "metadata": {},
   "source": [
    "**Mean:** The mean or expected value E(x) of a random variable is the average value in the population. We can calculate the expected with the equation below. In the equation, a certain probability (p) is multiplied to the number of possible outcomes (x). **Sum of the outcomes multiplied by the probability of the outcomes.**\n",
    "\n",
    "$$\n",
    "\\text{Expected Value} = \\sum_{i}x_ip_i\n",
    "$$\n",
    "\n",
    "**Variance:** The variance is the expected value of squared deviations of varibles from the mean. \n",
    "\n",
    "$$\n",
    "σ^2 = \\text{E}[(x - μ)^2]\n",
    "$$\n",
    "\n",
    "**Standard Deviation:** The square root of the variance.\n",
    "\n",
    "**Covariance:** Is the measure of the joint variability of two random variables. Essentially, **how two variables move together**. The issue with covariance is that it's a dimensional measure meaning that it depends on the dimensionality of the dataset. Covariance is also **not normalized so it is hard to compare with datasets with large differences** in spread. \n",
    "\n",
    "$$\n",
    "\\text{Covariance}(x,y) = \\text{E}[(x - μ_x)(y - μ_y)]\n",
    "$$\n",
    "\n",
    "**Correlation:** Dimensionless measure of how two random variables vary together. Correlation gives an **output value between -1 and 1** where a positive value is a positive linear relationship between variables. A negative value is a negative linear relationship and zero is no correlation. Correlation is the \n",
    "\n",
    "$$\n",
    "\\text{Correlation}(x,y) = \\frac{\\text{E}[(x - μ_x)(y - μ_y)]}{σ_x σ_y}\n",
    "$$"
   ]
  }
 ],
 "metadata": {
  "kernelspec": {
   "display_name": "Python 3 (ipykernel)",
   "language": "python",
   "name": "python3"
  },
  "language_info": {
   "codemirror_mode": {
    "name": "ipython",
    "version": 3
   },
   "file_extension": ".py",
   "mimetype": "text/x-python",
   "name": "python",
   "nbconvert_exporter": "python",
   "pygments_lexer": "ipython3",
   "version": "3.9.13"
  }
 },
 "nbformat": 4,
 "nbformat_minor": 5
}
