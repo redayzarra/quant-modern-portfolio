{
 "cells": [
  {
   "cell_type": "markdown",
   "id": "3704b30d",
   "metadata": {},
   "source": [
    "# Mathematics - Modern Portfolio Theory"
   ]
  },
  {
   "cell_type": "markdown",
   "id": "561ead06",
   "metadata": {},
   "source": [
    "### by ReDay Zarra"
   ]
  },
  {
   "cell_type": "markdown",
   "id": "da6118e8",
   "metadata": {},
   "source": [
    "**Lead concept:** Investors are **not allowed to set up short positions** so all the wealth has to be divided among the available stocks in a way that all **postitions are long positions**.\n",
    "\n",
    "**Portfolio:** An investors portfolio will be repreented by an array where the stocks are individual numbers between 0 and 1. Each stock will be represented as a portion of the portfolio so the **sum of the portfolio will be 1**.\n",
    "\n",
    "**Daily Return:** The daily return of a stock is how much profit the stock makes every day. We can calulate the daily return from the equation below. We find the difference between the price tommorrow and today, then divide that by the price of the stock today.\n",
    "\n",
    "$$\n",
    "\\text{Daily Return} = \\frac{S(t+1) - S(t)}{S(t)}\n",
    "$$"
   ]
  }
 ],
 "metadata": {
  "kernelspec": {
   "display_name": "Python 3 (ipykernel)",
   "language": "python",
   "name": "python3"
  },
  "language_info": {
   "codemirror_mode": {
    "name": "ipython",
    "version": 3
   },
   "file_extension": ".py",
   "mimetype": "text/x-python",
   "name": "python",
   "nbconvert_exporter": "python",
   "pygments_lexer": "ipython3",
   "version": "3.9.13"
  }
 },
 "nbformat": 4,
 "nbformat_minor": 5
}
